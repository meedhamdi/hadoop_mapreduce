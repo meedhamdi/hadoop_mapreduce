{
 "cells": [
  {
   "cell_type": "code",
   "execution_count": 1,
   "id": "e58316cb",
   "metadata": {},
   "outputs": [],
   "source": [
    "from pyspark import SparkContext"
   ]
  },
  {
   "cell_type": "markdown",
   "id": "db704e1d",
   "metadata": {},
   "source": [
    "Next, we create an instance of SparkContext:"
   ]
  },
  {
   "cell_type": "code",
   "execution_count": 7,
   "id": "deab125a",
   "metadata": {},
   "outputs": [
    {
     "name": "stderr",
     "output_type": "stream",
     "text": [
      "Setting default log level to \"WARN\".\n",
      "To adjust logging level use sc.setLogLevel(newLevel). For SparkR, use setLogLevel(newLevel).\n"
     ]
    },
    {
     "name": "stdout",
     "output_type": "stream",
     "text": [
      "22/12/27 11:07:15 WARN Utils: Service 'SparkUI' could not bind on port 4040. Attempting port 4041.\n"
     ]
    }
   ],
   "source": [
    "sc = SparkContext()"
   ]
  },
  {
   "cell_type": "code",
   "execution_count": null,
   "id": "5d2b1f29",
   "metadata": {},
   "outputs": [],
   "source": [
    "!hadoop fs -ls sales_world_10k.csv"
   ]
  },
  {
   "cell_type": "markdown",
   "id": "561a5b2d",
   "metadata": {},
   "source": [
    "    Next, we load the data into a Spark RDD"
   ]
  },
  {
   "cell_type": "code",
   "execution_count": null,
   "id": "1181917c",
   "metadata": {},
   "outputs": [],
   "source": [
    "sc.textFile(\"sales_world_10k.csv\") \\\n",
    "    .map(lambda line: line.split(\",\")) \\\n",
    "    .filter(lambda line: len(line)>1) \\\n",
    "    .map(lambda line: (line[0],line[1])) \\\n",
    "    .collect()"
   ]
  },
  {
   "cell_type": "code",
   "execution_count": null,
   "id": "fb097aa1",
   "metadata": {},
   "outputs": [],
   "source": []
  }
 ],
 "metadata": {
  "kernelspec": {
   "display_name": "Python 3 (ipykernel)",
   "language": "python",
   "name": "python3"
  },
  "language_info": {
   "codemirror_mode": {
    "name": "ipython",
    "version": 3
   },
   "file_extension": ".py",
   "mimetype": "text/x-python",
   "name": "python",
   "nbconvert_exporter": "python",
   "pygments_lexer": "ipython3",
   "version": "3.9.2"
  }
 },
 "nbformat": 4,
 "nbformat_minor": 5
}
